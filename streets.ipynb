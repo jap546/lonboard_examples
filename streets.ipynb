{
 "cells": [
  {
   "cell_type": "code",
   "execution_count": 3,
   "metadata": {},
   "outputs": [],
   "source": [
    "import geopandas as gpd\n",
    "import ipywidgets as widgets\n",
    "import pandas as pd\n",
    "from lonboard import Map, PathLayer\n"
   ]
  },
  {
   "cell_type": "markdown",
   "metadata": {},
   "source": [
    "# Streets\n",
    "\n",
    "We'll use DuckDB to query the the Overture Transport data to Greater London extract of roads.\n",
    "\n",
    "DuckDB is an analytics tool that allows you to query remote files and download only the data you want. You can follow the installation steps [here](https://duckdb.org/docs/installation/).\n",
    "\n",
    "DuckDB integrates great with Parquet files; some good use cases can be found:\n",
    "1. [DuckDB: The indispensable geospatial tool you didn’t know you were missing](https://medium.com/radiant-earth-insights/duckdb-the-indispensable-geospatial-tool-you-didnt-know-you-were-missing-5fe11c5633e5?) (Chris Holmes) - good introduction to using DuckDB with GeoParquet for geospatial analytical purposes, covers everything from usability, performance, geospatial support.\n",
    "2. [Admin-partitioned GeoParquet distribution](https://medium.com/radiant-earth-insights/the-admin-partitioned-geoparquet-distribution-59f0ca1c6d96?) (Chris Holmes) - more complex use case looking at making use of parquet hive paritioning working on the Google Buildings data.\n",
    "3. [My First Billion (of Rows) in DuckDB](https://towardsdatascience.com/my-first-billion-of-rows-in-duckdb-11873e5edbb5?) (João Pedro) - non-spatial example.\n",
    "\n",
    "First - we'll get rough approximate administration boundaries for Greater London from ONS."
   ]
  },
  {
   "cell_type": "code",
   "execution_count": 13,
   "metadata": {},
   "outputs": [
    {
     "data": {
      "text/plain": [
       "(-0.509807321692741, 51.2867904040814, 0.334024218329939, 51.6918756451179)"
      ]
     },
     "execution_count": 13,
     "metadata": {},
     "output_type": "execute_result"
    }
   ],
   "source": [
    "london_gdf = gpd.read_file(\n",
    "    \"https://services1.arcgis.com/ESMARspQHYMw9BZ9/arcgis/rest/services/Local_Authority_Districts_May_2024_Boundaries_UK_BUC/FeatureServer/0/query?outFields=*&where=1%3D1&f=geojson\",\n",
    "    use_arrow=True,\n",
    "    columns=[\"LAD24CD\", \"LAD24NM\", \"geometry\"],\n",
    "    where=\"LAD24CD LIKE 'E09%'\"\n",
    ")\n",
    "\n",
    "tuple(london_gdf.total_bounds)"
   ]
  },
  {
   "cell_type": "markdown",
   "metadata": {},
   "source": [
    "We can then make a DuckDB command to extract the data for our bounding box:\n",
    "\n",
    "```sql\n",
    "            LOAD spatial;\n",
    "            LOAD httpfs;\n",
    "            SET s3_region='us-west-2';\n",
    "\n",
    "            COPY (\n",
    "            SELECT\n",
    "                *\n",
    "            FROM read_parquet('s3://overturemaps-us-west-2/release/2024-08-20.0/theme=transportation/type=segment/*')\n",
    "            WHERE\n",
    "                subtype = 'subtype' AND\n",
    "                bbox.xmin > 0.509807321692741 AND bbox.xmax < 0.334024218329939 AND\n",
    "                bbox.ymin > 51.2867904040814 AND bbox.ymax < 51.6918756451179\n",
    "            )\n",
    "            TO 'data/london_roads.parquet';\n",
    "\n",
    "```\n",
    "\n",
    "Should save a Parquet file ~120Mb."
   ]
  },
  {
   "cell_type": "code",
   "execution_count": 8,
   "metadata": {},
   "outputs": [
    {
     "data": {
      "text/plain": [
       "534471"
      ]
     },
     "execution_count": 8,
     "metadata": {},
     "output_type": "execute_result"
    }
   ],
   "source": [
    "roads_df = pd.read_parquet(\"data/london_roads.parquet\")\n",
    "\n",
    "roads_gdf = gpd.GeoDataFrame(\n",
    "    roads_df, geometry=gpd.GeoSeries.from_wkb(roads_df.geometry, crs=4326)\n",
    ")\n",
    "\n",
    "len(roads_gdf)"
   ]
  },
  {
   "cell_type": "code",
   "execution_count": 9,
   "metadata": {},
   "outputs": [
    {
     "data": {
      "text/plain": [
       "427423"
      ]
     },
     "execution_count": 9,
     "metadata": {},
     "output_type": "execute_result"
    }
   ],
   "source": [
    "poly_mask = london_gdf.union_all(method=\"coverage\")\n",
    "\n",
    "roads_gdf = roads_gdf.iloc[\n",
    "    roads_gdf.sindex.query(\n",
    "        poly_mask,\n",
    "        predicate=\"intersects\",\n",
    "    )\n",
    "]\n",
    "\n",
    "len(roads_gdf)"
   ]
  },
  {
   "cell_type": "markdown",
   "metadata": {},
   "source": [
    "Slimmed data own from 534K features to 427K."
   ]
  },
  {
   "cell_type": "code",
   "execution_count": 10,
   "metadata": {},
   "outputs": [],
   "source": [
    "layer = PathLayer.from_geopandas(\n",
    "    roads_gdf[[\"subtype\", \"class\", \"geometry\"]], width_min_pixels=0.8\n",
    ")"
   ]
  },
  {
   "cell_type": "code",
   "execution_count": 11,
   "metadata": {},
   "outputs": [
    {
     "data": {
      "application/vnd.jupyter.widget-view+json": {
       "model_id": "f53a7a8f7be445099d5d5b21c52c558a",
       "version_major": 2,
       "version_minor": 1
      },
      "text/plain": [
       "Map(layers=[PathLayer(table=pyarrow.Table\n",
       "subtype: string\n",
       "class: string\n",
       "__index_level_0__: int64\n",
       "geometry: lis…"
      ]
     },
     "execution_count": 11,
     "metadata": {},
     "output_type": "execute_result"
    }
   ],
   "source": [
    "view_state = {\n",
    "    \"longitude\": poly_mask.centroid.x,\n",
    "    \"latitude\": poly_mask.centroid.y,\n",
    "    \"zoom\": 9,\n",
    "    \"pitch\": 0,\n",
    "    \"bearing\": 0,\n",
    "}\n",
    "\n",
    "map_layout = widgets.Layout(height=\"1200px\")\n",
    "\n",
    "m = Map(layer, view_state=view_state, layout=map_layout)\n",
    "\n",
    "m"
   ]
  },
  {
   "cell_type": "code",
   "execution_count": 12,
   "metadata": {},
   "outputs": [],
   "source": [
    "m.to_html(\"examples/streets.html\")"
   ]
  }
 ],
 "metadata": {
  "kernelspec": {
   "display_name": "lonboard-examples-upE50-eN-py3.10",
   "language": "python",
   "name": "python3"
  },
  "language_info": {
   "codemirror_mode": {
    "name": "ipython",
    "version": 3
   },
   "file_extension": ".py",
   "mimetype": "text/x-python",
   "name": "python",
   "nbconvert_exporter": "python",
   "pygments_lexer": "ipython3",
   "version": "3.10.13"
  }
 },
 "nbformat": 4,
 "nbformat_minor": 2
}
