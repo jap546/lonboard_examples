{
 "cells": [
  {
   "cell_type": "code",
   "execution_count": 31,
   "metadata": {},
   "outputs": [],
   "source": [
    "import geopandas as gpd\n",
    "import ipywidgets as widgets\n",
    "import numpy as np\n",
    "import overturemaps\n",
    "from lonboard import Map, PolygonLayer\n",
    "from lonboard.colormap import apply_continuous_cmap\n",
    "from matplotlib import colormaps\n",
    "from matplotlib.colors import LogNorm\n",
    "from shapely import box\n"
   ]
  },
  {
   "cell_type": "markdown",
   "metadata": {},
   "source": [
    "# Buildings data\n",
    "\n",
    "Read [Overture Maps building data](https://docs.overturemaps.org/guides/buildings/#14/32.58453/-117.05154/0/60) within a 10km buffer of London."
   ]
  },
  {
   "cell_type": "code",
   "execution_count": 38,
   "metadata": {},
   "outputs": [],
   "source": [
    "bbox = (-0.354309,51.394922,0.122910,51.606077)\n",
    "\n",
    "poly = box(*bbox)\n",
    "\n",
    "x = poly.centroid.x\n",
    "y = poly.centroid.y"
   ]
  },
  {
   "cell_type": "markdown",
   "metadata": {},
   "source": [
    "Read buildings data from `bbox`."
   ]
  },
  {
   "cell_type": "code",
   "execution_count": 39,
   "metadata": {},
   "outputs": [],
   "source": [
    "table = overturemaps.record_batch_reader(\"building\", bbox).read_all()\n",
    "\n",
    "table = table.combine_chunks()"
   ]
  },
  {
   "cell_type": "code",
   "execution_count": 40,
   "metadata": {},
   "outputs": [],
   "source": [
    "data = table.to_pandas()\n",
    "\n",
    "gdf = gpd.GeoDataFrame(data, geometry=gpd.GeoSeries.from_wkb(data.geometry, crs=4326))"
   ]
  },
  {
   "cell_type": "markdown",
   "metadata": {},
   "source": [
    "Here we're doing a roundabout way of getting it into a `geopandas.GeoDataFrame`. You can use:\n",
    "\n",
    "```python\n",
    "    gdf = overturemaps.core.geodataframe(\"building\", bbox=bbox)\n",
    "```\n",
    "\n",
    "But I've noticed this timeouts out quicker than the above method."
   ]
  },
  {
   "cell_type": "code",
   "execution_count": 43,
   "metadata": {},
   "outputs": [
    {
     "data": {
      "text/plain": [
       "879670"
      ]
     },
     "execution_count": 43,
     "metadata": {},
     "output_type": "execute_result"
    }
   ],
   "source": [
    "# 880K polygons\n",
    "len(gdf)"
   ]
  },
  {
   "cell_type": "code",
   "execution_count": 44,
   "metadata": {},
   "outputs": [],
   "source": [
    "heights = gdf[\"height\"].to_numpy()\n",
    "heights = np.nan_to_num(heights, nan=1)\n",
    "\n",
    "normalizer = LogNorm(1, heights.max(), clip=True)\n",
    "normalized_heights = normalizer(heights)\n",
    "\n",
    "colors = apply_continuous_cmap(normalized_heights, colormaps[\"plasma\"])"
   ]
  },
  {
   "cell_type": "code",
   "execution_count": 45,
   "metadata": {},
   "outputs": [],
   "source": [
    "building_layer = PolygonLayer.from_geopandas(\n",
    "    gdf=gdf[[\"id\", \"height\", \"geometry\", \"names\"]],\n",
    "    extruded=True,\n",
    "    get_elevation=heights,\n",
    "    get_fill_color=colors,\n",
    ")"
   ]
  },
  {
   "cell_type": "code",
   "execution_count": 50,
   "metadata": {},
   "outputs": [
    {
     "data": {
      "application/vnd.jupyter.widget-view+json": {
       "model_id": "00543b4cb3124a24b6d706082e1d3548",
       "version_major": 2,
       "version_minor": 1
      },
      "text/plain": [
       "Map(layers=[PolygonLayer(extruded=True, get_elevation=<pyarrow.lib.FloatArray object at 0x33b7693c0>\n",
       "[\n",
       "  3.284…"
      ]
     },
     "execution_count": 50,
     "metadata": {},
     "output_type": "execute_result"
    }
   ],
   "source": [
    "view_state = {\n",
    "    \"longitude\": x,\n",
    "    \"latitude\": y,\n",
    "    \"zoom\": 11,\n",
    "    \"pitch\": 90,\n",
    "    \"bearing\": 0,\n",
    "}\n",
    "\n",
    "map_layout = widgets.Layout(height=\"1200px\")\n",
    "\n",
    "m = Map(building_layer, view_state=view_state, layout=map_layout)\n",
    "\n",
    "m"
   ]
  },
  {
   "cell_type": "code",
   "execution_count": 47,
   "metadata": {},
   "outputs": [],
   "source": [
    "m.to_html(\"examples/buildings.html\")"
   ]
  }
 ],
 "metadata": {
  "kernelspec": {
   "display_name": "lonboard-examples-upE50-eN-py3.10",
   "language": "python",
   "name": "python3"
  },
  "language_info": {
   "codemirror_mode": {
    "name": "ipython",
    "version": 3
   },
   "file_extension": ".py",
   "mimetype": "text/x-python",
   "name": "python",
   "nbconvert_exporter": "python",
   "pygments_lexer": "ipython3",
   "version": "3.10.13"
  }
 },
 "nbformat": 4,
 "nbformat_minor": 2
}
